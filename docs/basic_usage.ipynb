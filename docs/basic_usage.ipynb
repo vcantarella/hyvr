{
 "cells": [
  {
   "cell_type": "markdown",
   "metadata": {
    "collapsed": false
   },
   "source": [
    "# Basic Usage\n",
    "\n",
    "HyVR constructs sedimentary facies models from a hierarchy of geobodies assigned to a grid.\n",
    "\n",
    "In this simple example, we will demonstrate how to create a geobody (object) and how it works. Then we will expand our creativity and create sedimentological virtual realities using these geobodies as building blocks."
   ]
  },
  {
   "cell_type": "markdown",
   "metadata": {
    "collapsed": false
   },
   "source": [
    "### Libraries to run this example\n",
    "HyVR needs just numpy, numba and scipy. Additionally, to visualize it is desirable to use pyvista for its great functionality in handling 3D meshes and plotting."
   ]
  },
  {
   "cell_type": "code",
   "execution_count": 1,
   "metadata": {
    "ExecuteTime": {
     "end_time": "2024-01-26T14:28:10.043494600Z",
     "start_time": "2024-01-26T14:28:09.300931500Z"
    },
    "collapsed": false
   },
   "outputs": [],
   "source": [
    "import pyvista\n",
    "import hyvr\n",
    "import numpy as np"
   ]
  },
  {
   "cell_type": "markdown",
   "metadata": {},
   "source": [
    "### Grid\n",
    "\n",
    "HyVR works with structured grids. The simplest way of building a grid is to use numpy meshgrid function.\n",
    "Here we show an example of a grid creating using the MODFLOW convention axis order (layer, row, col)."
   ]
  },
  {
   "cell_type": "code",
   "execution_count": 2,
   "metadata": {},
   "outputs": [],
   "source": [
    "xs = np.linspace(0,100,200)\n",
    "ys = np.linspace(0,80,160)\n",
    "zs = np.linspace(0,20,50)\n",
    "xmin = np.min(xs)\n",
    "xmax = np.max(xs)\n",
    "ymin = np.min(ys)\n",
    "ymax = np.max(ys)\n",
    "z,y,x = np.meshgrid(zs,ys,xs,indexing='ij')\n",
    "z = np.flip(z,axis=0)\n",
    "y = np.flip(y,axis=1)"
   ]
  },
  {
   "cell_type": "markdown",
   "metadata": {
    "collapsed": false
   },
   "source": [
    "## What is a geobody\n",
    "\n",
    "From Bennet et al. (2019): \"Architectural elements (Miall 1985) are threedimensional sedimentary features (e.g., channels) that are formed by autocyclic processes that occur within depositional systems (Beerbower 1964). They are often superimposed on allocyclic sequences by higher-frequency events that occur over periods of tens to thousands of years (Miall 2013). Different fluvial systems will have their own characteristic architectural elements, and these may range from 101 to 102 m in lateral extent (Miall 1985). Architectural elements are recognized by their outer bounding surfaces, which are often erosional, as well as by their internal facies assemblages (Allen 1983).\"\n",
    "\n",
    "These architectural elements can be simplified as geobodies, which are 3D geometries that represent some architectural element. Currently, HyVR implements 3 different geobodies.\n",
    "\n",
    "### Trough\n",
    "\n",
    "The first geobody is the trough. Geometrically it is the lower half of an ellipsoid. It can be used to represent sedimentary architectures such as discontinuous lenses or scour pool fills.\n",
    "\n",
    "On a basic level, we have to set the center coordinates of the ellipsoid, the dimensions (a,b,c), the azimuth (from North) and the facies index corresponding to that object.\n",
    "\n",
    "The outputs match the dimension of the grid. they are:\n",
    "\n",
    "- facies: the facies array with the facies index assigned at the trough location\n",
    "- dip direction: the angle from east (mathematical convention) of the structure direction (depends on the internal layering)\n",
    "- dip: the dip angle of the structure (depends on the internal structure settings)\n"
   ]
  },
  {
   "cell_type": "code",
   "execution_count": 3,
   "metadata": {},
   "outputs": [
    {
     "name": "stdout",
     "output_type": "stream",
     "text": [
      "335616\n",
      "(335616,)\n",
      "(50, 160, 200)\n"
     ]
    }
   ],
   "source": [
    "from hyvr import trough\n",
    "\n",
    "centercoord = np.array([50,40,19])\n",
    "dims = np.array([40,20,10])\n",
    "facies, dip, dip_dir = trough(x,y,z,centercoord,\n",
    "                                                    dims,\n",
    "                                                    azim = 20.,facies = np.array([1]),\n",
    "                                                    )"
   ]
  },
  {
   "cell_type": "markdown",
   "metadata": {},
   "source": [
    "To visualize with pyvista, the order to the axis is x,y,z which is the transposition of the numpy array according to the `np.tranpose()` function documentation:"
   ]
  },
  {
   "cell_type": "code",
   "execution_count": 23,
   "metadata": {},
   "outputs": [
    {
     "name": "stdout",
     "output_type": "stream",
     "text": [
      "(200, 160, 50)\n"
     ]
    }
   ],
   "source": [
    "x_p = np.transpose(x)\n",
    "y_p = np.transpose(y)\n",
    "z_p = np.transpose(z)\n",
    "facies_p = np.transpose(facies)\n",
    "print(x_p.shape)"
   ]
  },
  {
   "cell_type": "code",
   "execution_count": 24,
   "metadata": {},
   "outputs": [
    {
     "ename": "ValueError",
     "evalue": "Array of points must be 1D or 2D",
     "output_type": "error",
     "traceback": [
      "\u001b[0;31m---------------------------------------------------------------------------\u001b[0m",
      "\u001b[0;31mValueError\u001b[0m                                Traceback (most recent call last)",
      "Cell \u001b[0;32mIn[24], line 4\u001b[0m\n\u001b[1;32m      1\u001b[0m grid \u001b[38;5;241m=\u001b[39m pyvista\u001b[38;5;241m.\u001b[39mStructuredGrid()\n\u001b[1;32m      2\u001b[0m grid\u001b[38;5;241m.\u001b[39mpoints \u001b[38;5;241m=\u001b[39m np\u001b[38;5;241m.\u001b[39mcolumn_stack((x_p\u001b[38;5;241m.\u001b[39mflatten(), y_p\u001b[38;5;241m.\u001b[39mflatten(), z_p\u001b[38;5;241m.\u001b[39mflatten()))\n\u001b[0;32m----> 4\u001b[0m \u001b[43mgrid\u001b[49m\u001b[38;5;241;43m.\u001b[39;49m\u001b[43mpoints\u001b[49m \u001b[38;5;241m=\u001b[39m np\u001b[38;5;241m.\u001b[39mcolumn_stack((x_p\u001b[38;5;241m.\u001b[39mflatten(), y_p\u001b[38;5;241m.\u001b[39mflatten(), z_p\u001b[38;5;241m.\u001b[39mflatten()))\u001b[38;5;241m.\u001b[39mreshape((\u001b[38;5;241m200\u001b[39m,\u001b[38;5;241m160\u001b[39m,\u001b[38;5;241m50\u001b[39m, \u001b[38;5;241m3\u001b[39m))\n",
      "File \u001b[0;32m/opt/homebrew/Caskroom/miniforge/base/envs/ttim-env/lib/python3.10/site-packages/pyvista/core/dataset.py:523\u001b[0m, in \u001b[0;36mDataSet.points\u001b[0;34m(self, points)\u001b[0m\n\u001b[1;32m    521\u001b[0m     \u001b[38;5;28;01mreturn\u001b[39;00m\n\u001b[1;32m    522\u001b[0m \u001b[38;5;66;03m# otherwise, wrap and use the array\u001b[39;00m\n\u001b[0;32m--> 523\u001b[0m points, _ \u001b[38;5;241m=\u001b[39m \u001b[43m_coerce_pointslike_arg\u001b[49m\u001b[43m(\u001b[49m\u001b[43mpoints\u001b[49m\u001b[43m,\u001b[49m\u001b[43m \u001b[49m\u001b[43mcopy\u001b[49m\u001b[38;5;241;43m=\u001b[39;49m\u001b[38;5;28;43;01mFalse\u001b[39;49;00m\u001b[43m)\u001b[49m\n\u001b[1;32m    524\u001b[0m vtkpts \u001b[38;5;241m=\u001b[39m vtk_points(points, \u001b[38;5;28;01mFalse\u001b[39;00m)\n\u001b[1;32m    525\u001b[0m \u001b[38;5;28;01mif\u001b[39;00m \u001b[38;5;129;01mnot\u001b[39;00m pdata:\n",
      "File \u001b[0;32m/opt/homebrew/Caskroom/miniforge/base/envs/ttim-env/lib/python3.10/site-packages/pyvista/core/utilities/arrays.py:87\u001b[0m, in \u001b[0;36m_coerce_pointslike_arg\u001b[0;34m(points, copy)\u001b[0m\n\u001b[1;32m     84\u001b[0m     \u001b[38;5;28;01mraise\u001b[39;00m \u001b[38;5;167;01mTypeError\u001b[39;00m(\u001b[38;5;124m\"\u001b[39m\u001b[38;5;124mGiven points must be convertible to a numerical array.\u001b[39m\u001b[38;5;124m\"\u001b[39m)\n\u001b[1;32m     86\u001b[0m \u001b[38;5;28;01mif\u001b[39;00m points\u001b[38;5;241m.\u001b[39mndim \u001b[38;5;241m>\u001b[39m \u001b[38;5;241m2\u001b[39m:\n\u001b[0;32m---> 87\u001b[0m     \u001b[38;5;28;01mraise\u001b[39;00m \u001b[38;5;167;01mValueError\u001b[39;00m(\u001b[38;5;124m\"\u001b[39m\u001b[38;5;124mArray of points must be 1D or 2D\u001b[39m\u001b[38;5;124m\"\u001b[39m)\n\u001b[1;32m     89\u001b[0m \u001b[38;5;28;01mif\u001b[39;00m points\u001b[38;5;241m.\u001b[39mndim \u001b[38;5;241m==\u001b[39m \u001b[38;5;241m2\u001b[39m:\n\u001b[1;32m     90\u001b[0m     \u001b[38;5;28;01mif\u001b[39;00m points\u001b[38;5;241m.\u001b[39mshape[\u001b[38;5;241m1\u001b[39m] \u001b[38;5;241m!=\u001b[39m \u001b[38;5;241m3\u001b[39m:\n",
      "\u001b[0;31mValueError\u001b[0m: Array of points must be 1D or 2D"
     ]
    }
   ],
   "source": [
    "grid = pyvista.StructuredGrid()\n",
    "grid.points = np.column_stack((x_p.flatten(), y_p.flatten(), z_p.flatten()))\n",
    "\n",
    "grid.points = np.column_stack((x_p.flatten(), y_p.flatten(), z_p.flatten())).reshape((200,160,50, 3))"
   ]
  },
  {
   "cell_type": "code",
   "execution_count": 27,
   "metadata": {},
   "outputs": [
    {
     "ename": "ValueError",
     "evalue": "cannot reshape array of size 3000 into shape (10,10,10)",
     "output_type": "error",
     "traceback": [
      "\u001b[0;31m---------------------------------------------------------------------------\u001b[0m",
      "\u001b[0;31mValueError\u001b[0m                                Traceback (most recent call last)",
      "Cell \u001b[0;32mIn[27], line 18\u001b[0m\n\u001b[1;32m     15\u001b[0m grid\u001b[38;5;241m.\u001b[39mpoints \u001b[38;5;241m=\u001b[39m points\n\u001b[1;32m     17\u001b[0m \u001b[38;5;66;03m# Reshape the points array to match the dimensions of the grid\u001b[39;00m\n\u001b[0;32m---> 18\u001b[0m grid\u001b[38;5;241m.\u001b[39mpoints \u001b[38;5;241m=\u001b[39m \u001b[43mpoints\u001b[49m\u001b[38;5;241;43m.\u001b[39;49m\u001b[43mreshape\u001b[49m\u001b[43m(\u001b[49m\u001b[43m(\u001b[49m\u001b[43mnx\u001b[49m\u001b[43m,\u001b[49m\u001b[43m \u001b[49m\u001b[43mny\u001b[49m\u001b[43m,\u001b[49m\u001b[43m \u001b[49m\u001b[43mnz\u001b[49m\u001b[43m)\u001b[49m\u001b[43m,\u001b[49m\u001b[43m \u001b[49m\u001b[43morder\u001b[49m\u001b[38;5;241;43m=\u001b[39;49m\u001b[38;5;124;43m'\u001b[39;49m\u001b[38;5;124;43mF\u001b[39;49m\u001b[38;5;124;43m'\u001b[39;49m\u001b[43m)\u001b[49m\n\u001b[1;32m     20\u001b[0m \u001b[38;5;66;03m# Save or plot the grid\u001b[39;00m\n\u001b[1;32m     21\u001b[0m   \u001b[38;5;66;03m# Save the grid to a VTK file\u001b[39;00m\n\u001b[1;32m     22\u001b[0m grid\u001b[38;5;241m.\u001b[39mplot(show_scalar_bar\u001b[38;5;241m=\u001b[39m\u001b[38;5;28;01mTrue\u001b[39;00m)   \u001b[38;5;66;03m# Plot the grid\u001b[39;00m\n",
      "\u001b[0;31mValueError\u001b[0m: cannot reshape array of size 3000 into shape (10,10,10)"
     ]
    }
   ],
   "source": [
    "# Define grid parameters\n",
    "nx, ny, nz = 10, 10, 10\n",
    "x = np.linspace(0, 1, nx)\n",
    "y = np.linspace(0, 1, ny)\n",
    "z = np.linspace(0, 1, nz)\n",
    "\n",
    "# Create meshgrid for cell centers\n",
    "xx, yy, zz = np.meshgrid(x, y, z, indexing='ij')\n",
    "\n",
    "# Flatten the meshgrid to get the cell centers\n",
    "points = np.column_stack((xx.flatten(), yy.flatten(), zz.flatten()))\n",
    "\n",
    "# Create PyVista structured grid\n",
    "grid = pyvista.StructuredGrid()\n",
    "grid.points = points\n",
    "\n",
    "# Reshape the points array to match the dimensions of the grid\n",
    "grid.points = points.reshape((nx, ny, nz), order='F')\n",
    "\n",
    "# Save or plot the grid\n",
    "  # Save the grid to a VTK file\n",
    "grid.plot(show_scalar_bar=True)   # Plot the grid"
   ]
  },
  {
   "cell_type": "code",
   "execution_count": 21,
   "metadata": {},
   "outputs": [
    {
     "ename": "ValueError",
     "evalue": "data length of (1600000) != required length (0)",
     "output_type": "error",
     "traceback": [
      "\u001b[0;31m---------------------------------------------------------------------------\u001b[0m",
      "\u001b[0;31mValueError\u001b[0m                                Traceback (most recent call last)",
      "Cell \u001b[0;32mIn[21], line 1\u001b[0m\n\u001b[0;32m----> 1\u001b[0m \u001b[43mgrid\u001b[49m\u001b[38;5;241;43m.\u001b[39;49m\u001b[43mcell_data\u001b[49m\u001b[43m[\u001b[49m\u001b[38;5;124;43m\"\u001b[39;49m\u001b[38;5;124;43mfacies\u001b[39;49m\u001b[38;5;124;43m\"\u001b[39;49m\u001b[43m]\u001b[49m \u001b[38;5;241m=\u001b[39m facies_p\u001b[38;5;241m.\u001b[39mravel()\n\u001b[1;32m      2\u001b[0m plotter \u001b[38;5;241m=\u001b[39m pyvista\u001b[38;5;241m.\u001b[39mPlotter()\n\u001b[1;32m      3\u001b[0m plotter\u001b[38;5;241m.\u001b[39madd_mesh(grid)\n",
      "File \u001b[0;32m/opt/homebrew/Caskroom/miniforge/base/envs/ttim-env/lib/python3.10/site-packages/pyvista/core/datasetattributes.py:227\u001b[0m, in \u001b[0;36mDataSetAttributes.__setitem__\u001b[0;34m(self, key, value)\u001b[0m\n\u001b[1;32m    224\u001b[0m     \u001b[38;5;28;01mraise\u001b[39;00m \u001b[38;5;167;01mTypeError\u001b[39;00m(\u001b[38;5;124m'\u001b[39m\u001b[38;5;124mOnly strings are valid keys for DataSetAttributes.\u001b[39m\u001b[38;5;124m'\u001b[39m)\n\u001b[1;32m    226\u001b[0m has_arr \u001b[38;5;241m=\u001b[39m key \u001b[38;5;129;01min\u001b[39;00m \u001b[38;5;28mself\u001b[39m\n\u001b[0;32m--> 227\u001b[0m \u001b[38;5;28;43mself\u001b[39;49m\u001b[38;5;241;43m.\u001b[39;49m\u001b[43mset_array\u001b[49m\u001b[43m(\u001b[49m\u001b[43mvalue\u001b[49m\u001b[43m,\u001b[49m\u001b[43m \u001b[49m\u001b[43mname\u001b[49m\u001b[38;5;241;43m=\u001b[39;49m\u001b[43mkey\u001b[49m\u001b[43m)\u001b[49m\n\u001b[1;32m    229\u001b[0m \u001b[38;5;66;03m# do not make array active if it already exists.  This covers\u001b[39;00m\n\u001b[1;32m    230\u001b[0m \u001b[38;5;66;03m# an inplace update like self.point_data[key] += 1\u001b[39;00m\n\u001b[1;32m    231\u001b[0m \u001b[38;5;28;01mif\u001b[39;00m has_arr:\n",
      "File \u001b[0;32m/opt/homebrew/Caskroom/miniforge/base/envs/ttim-env/lib/python3.10/site-packages/pyvista/core/datasetattributes.py:579\u001b[0m, in \u001b[0;36mDataSetAttributes.set_array\u001b[0;34m(self, data, name, deep_copy)\u001b[0m\n\u001b[1;32m    576\u001b[0m \u001b[38;5;28;01mif\u001b[39;00m \u001b[38;5;129;01mnot\u001b[39;00m \u001b[38;5;28misinstance\u001b[39m(name, \u001b[38;5;28mstr\u001b[39m):\n\u001b[1;32m    577\u001b[0m     \u001b[38;5;28;01mraise\u001b[39;00m \u001b[38;5;167;01mTypeError\u001b[39;00m(\u001b[38;5;124m'\u001b[39m\u001b[38;5;124m`name` must be a string\u001b[39m\u001b[38;5;124m'\u001b[39m)\n\u001b[0;32m--> 579\u001b[0m vtk_arr \u001b[38;5;241m=\u001b[39m \u001b[38;5;28;43mself\u001b[39;49m\u001b[38;5;241;43m.\u001b[39;49m\u001b[43m_prepare_array\u001b[49m\u001b[43m(\u001b[49m\u001b[43mdata\u001b[49m\u001b[43m,\u001b[49m\u001b[43m \u001b[49m\u001b[43mname\u001b[49m\u001b[43m,\u001b[49m\u001b[43m \u001b[49m\u001b[43mdeep_copy\u001b[49m\u001b[43m)\u001b[49m\n\u001b[1;32m    580\u001b[0m \u001b[38;5;28mself\u001b[39m\u001b[38;5;241m.\u001b[39mVTKObject\u001b[38;5;241m.\u001b[39mAddArray(vtk_arr)\n\u001b[1;32m    581\u001b[0m \u001b[38;5;28mself\u001b[39m\u001b[38;5;241m.\u001b[39mVTKObject\u001b[38;5;241m.\u001b[39mModified()\n",
      "File \u001b[0;32m/opt/homebrew/Caskroom/miniforge/base/envs/ttim-env/lib/python3.10/site-packages/pyvista/core/datasetattributes.py:737\u001b[0m, in \u001b[0;36mDataSetAttributes._prepare_array\u001b[0;34m(self, data, name, deep_copy)\u001b[0m\n\u001b[1;32m    735\u001b[0m     data \u001b[38;5;241m=\u001b[39m tmparray\n\u001b[1;32m    736\u001b[0m \u001b[38;5;28;01mif\u001b[39;00m data\u001b[38;5;241m.\u001b[39mshape[\u001b[38;5;241m0\u001b[39m] \u001b[38;5;241m!=\u001b[39m array_len:\n\u001b[0;32m--> 737\u001b[0m     \u001b[38;5;28;01mraise\u001b[39;00m \u001b[38;5;167;01mValueError\u001b[39;00m(\u001b[38;5;124mf\u001b[39m\u001b[38;5;124m'\u001b[39m\u001b[38;5;124mdata length of (\u001b[39m\u001b[38;5;132;01m{\u001b[39;00mdata\u001b[38;5;241m.\u001b[39mshape[\u001b[38;5;241m0\u001b[39m]\u001b[38;5;132;01m}\u001b[39;00m\u001b[38;5;124m) != required length (\u001b[39m\u001b[38;5;132;01m{\u001b[39;00marray_len\u001b[38;5;132;01m}\u001b[39;00m\u001b[38;5;124m)\u001b[39m\u001b[38;5;124m'\u001b[39m)\n\u001b[1;32m    739\u001b[0m \u001b[38;5;66;03m# attempt to reuse the existing pointer to underlying VTK data\u001b[39;00m\n\u001b[1;32m    740\u001b[0m \u001b[38;5;28;01mif\u001b[39;00m \u001b[38;5;28misinstance\u001b[39m(data, pyvista_ndarray):\n\u001b[1;32m    741\u001b[0m     \u001b[38;5;66;03m# pyvista_ndarray already contains the reference to the vtk object\u001b[39;00m\n\u001b[1;32m    742\u001b[0m     \u001b[38;5;66;03m# pyvista needs to use the copy of this object rather than wrapping\u001b[39;00m\n\u001b[1;32m    743\u001b[0m     \u001b[38;5;66;03m# the array (which leaves a C++ pointer uncollected.\u001b[39;00m\n",
      "\u001b[0;31mValueError\u001b[0m: data length of (1600000) != required length (0)"
     ]
    }
   ],
   "source": [
    "grid.cell_data[\"facies\"] = facies_p.ravel()\n",
    "plotter = pyvista.Plotter()\n",
    "plotter.add_mesh(grid)\n",
    "plotter.show()"
   ]
  },
  {
   "cell_type": "code",
   "execution_count": null,
   "metadata": {},
   "outputs": [],
   "source": []
  }
 ],
 "metadata": {
  "kernelspec": {
   "display_name": "Python 3",
   "language": "python",
   "name": "python3"
  },
  "language_info": {
   "codemirror_mode": {
    "name": "ipython",
    "version": 3
   },
   "file_extension": ".py",
   "mimetype": "text/x-python",
   "name": "python",
   "nbconvert_exporter": "python",
   "pygments_lexer": "ipython3",
   "version": "3.10.13"
  }
 },
 "nbformat": 4,
 "nbformat_minor": 0
}
