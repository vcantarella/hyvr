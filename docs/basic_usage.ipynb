{
 "cells": [
  {
   "cell_type": "markdown",
   "source": [
    "# Basic Usage\n",
    "\n",
    "HyVR constructs sedimentary facies models from a hierarchy of geobodies assigned to a grid.\n",
    "\n",
    "In this simple example, we will demonstrate how to create a geobody (object) and how it works. Then we will expand our creativity and create sedimentological virtual realities using these geobodies as building blocks."
   ],
   "metadata": {
    "collapsed": false
   }
  },
  {
   "cell_type": "markdown",
   "source": [
    "## Libraries to run this example\n",
    "HyVR needs just numpy, numba and scipy. Additionally, to visualize it is desirable to use pyvista for its great functionality in handling 3D meshes and plotting."
   ],
   "metadata": {
    "collapsed": false
   }
  },
  {
   "cell_type": "code",
   "execution_count": 1,
   "outputs": [],
   "source": [
    "import pyvista\n",
    "import hyvr\n",
    "import numpy as np"
   ],
   "metadata": {
    "collapsed": false,
    "ExecuteTime": {
     "end_time": "2024-01-26T14:28:10.043494600Z",
     "start_time": "2024-01-26T14:28:09.300931500Z"
    }
   }
  },
  {
   "cell_type": "markdown",
   "source": [
    "## What is a geobody\n",
    "\n",
    "From Bennet et al. (2019): \"Architectural elements (Miall 1985) are threedimensional sedimentary features (e.g., channels) that are formed by autocyclic processes that occur within depositional systems (Beerbower 1964). They are often superimposed on allocyclic sequences by higher-frequency events that occur over periods of tens to thousands of years (Miall 2013). Different fluvial systems will have their own characteristic architectural elements, and these may range from 101 to 102 m in lateral extent (Miall 1985). Architectural elements are recognized by their outer bounding surfaces, which are often erosional, as well as by their internal facies assemblages (Allen 1983).\"\n",
    "\n",
    "These architectural elements can be simplified as geobodies, which are 3D geometries that represent some architectural element. Currently, HyVR implements 3 different geobodies."
   ],
   "metadata": {
    "collapsed": false
   }
  }
 ],
 "metadata": {
  "kernelspec": {
   "display_name": "Python 3",
   "language": "python",
   "name": "python3"
  },
  "language_info": {
   "codemirror_mode": {
    "name": "ipython",
    "version": 2
   },
   "file_extension": ".py",
   "mimetype": "text/x-python",
   "name": "python",
   "nbconvert_exporter": "python",
   "pygments_lexer": "ipython2",
   "version": "2.7.6"
  }
 },
 "nbformat": 4,
 "nbformat_minor": 0
}
